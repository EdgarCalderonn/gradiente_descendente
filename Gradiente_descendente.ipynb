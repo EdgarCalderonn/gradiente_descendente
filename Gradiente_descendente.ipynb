{
 "cells": [
  {
   "cell_type": "code",
   "execution_count": 1,
   "metadata": {},
   "outputs": [],
   "source": [
    "import numpy as np"
   ]
  },
  {
   "cell_type": "code",
   "execution_count": 2,
   "metadata": {},
   "outputs": [],
   "source": [
    "# Se cargan los datos del dataset\n",
    "dataSet = np.loadtxt(\"fish_length.txt\",delimiter='  ')\n",
    "\n",
    "\n",
    "# En este desarrollo usaré 31 para entrenamiento, y 13 para probar - 70% / 30%\n",
    "\n",
    "# Se crea la matriz x con los datos\n",
    "x  = np.array(dataSet[0:31,[0,1]])\n",
    "\n",
    "# Se crea nuestra matriz de soluciones\n",
    "y  = np.array(dataSet[0:31,2])\n",
    "ones = np.ones([x.shape[0],1]) #columnas de unos\n",
    "x = np.concatenate((ones,x),axis=1) #uno la matriz de unos con X\n",
    "\n",
    "\n",
    "\n"
   ]
  },
  {
   "cell_type": "code",
   "execution_count": 3,
   "metadata": {},
   "outputs": [
    {
     "name": "stdout",
     "output_type": "stream",
     "text": [
      "[ 0.82571512 30.42611623 30.97263731]\n"
     ]
    }
   ],
   "source": [
    "# Establecemos nuestros parametros\n",
    "alpha = 0.0001\n",
    "theta = np.zeros(3)\n",
    "iteraciones = 1000\n",
    "\n",
    "  \n",
    "# Esta formula nos permitirá calcular una predicción o hipótesis h(x)\n",
    "def hipotesis(x,theta,n):\n",
    "    hipotesis = 0\n",
    "    for k in range(len(theta)):\n",
    "        hipotesis = hipotesis + x[n][k]*theta[k]\n",
    "    return hipotesis\n",
    "\n",
    "\n",
    "# Esta funcion realiza la sumatoria de la formula del gradiente descendente\n",
    "def sumatoria(x,y,theta,j):\n",
    "    suma = 0\n",
    "    for n in range(len(x)):\n",
    "        suma = suma + (hipotesis(x,theta,n) - y[n]) * x[n][j]   \n",
    "    return suma\n",
    "\n",
    "\n",
    "# Se aplica la formula del gradiente descendente\n",
    "def gradiente_descendente(theta,x,y,alpha,iteraciones):\n",
    "    for k in range(iteraciones):\n",
    "        for j in range(len(theta)):\n",
    "            theta[j] = theta[j] - (alpha/len(x)) * ( sumatoria(x,y,theta,j)   )\n",
    "        #print(\"Valor de theta\"+str(0)+\": \"+str(theta[0]))\n",
    "        \n",
    "    return theta\n",
    "\n",
    "theta = gradiente_descendente(theta,x,y,alpha,iteraciones)\n",
    "\n",
    "print(theta)\n",
    "\n",
    "\n",
    "\n",
    "\n",
    "    \n",
    "    \n",
    "\n",
    "\n",
    "    \n",
    "    \n",
    "    \n",
    "    "
   ]
  },
  {
   "cell_type": "code",
   "execution_count": 4,
   "metadata": {},
   "outputs": [],
   "source": [
    "# Ahora usare el 40% de los datos\n",
    "pruebax = np.array(dataSet[31:44,[0,1]])\n",
    "ones = np.ones([x.shape[0],1]) #columnas de unos\n",
    "x = np.concatenate((ones,x),axis=1) #uno la matriz de unos con X\n",
    "\n",
    "pruebay =  np.array(dataSet[31:44,[2]])\n",
    "\n",
    "cantidad = len(pruebax)\n",
    "\n",
    "#Inicializo el vector con el numero de filas de prueba\n",
    "predicciones = [0]*(cantidad)\n"
   ]
  },
  {
   "cell_type": "code",
   "execution_count": 5,
   "metadata": {
    "scrolled": true
   },
   "outputs": [
    {
     "name": "stdout",
     "output_type": "stream",
     "text": [
      "**PRUEBA 1**\n",
      "Dato real: [4565.] \n",
      "Prediccion: 997.1317721476006\n",
      "Diferencia: [3567.86822785]\n",
      "\n",
      "\n",
      "**PRUEBA 2**\n",
      "Dato real: [4566.] \n",
      "Prediccion: 1008.6917837958881\n",
      "Diferencia: [3557.3082162]\n",
      "\n",
      "\n",
      "**PRUEBA 3**\n",
      "Dato real: [590.] \n",
      "Prediccion: 954.7696148985036\n",
      "Diferencia: [364.7696149]\n",
      "\n",
      "\n",
      "**PRUEBA 4**\n",
      "Dato real: [1205.] \n",
      "Prediccion: 966.3296265467911\n",
      "Diferencia: [238.67037345]\n",
      "\n",
      "\n",
      "**PRUEBA 5**\n",
      "Dato real: [1915.] \n",
      "Prediccion: 977.0639230773438\n",
      "Diferencia: [937.93607692]\n",
      "\n",
      "\n",
      "**PRUEBA 6**\n",
      "Dato real: [2140.] \n",
      "Prediccion: 988.6239347256313\n",
      "Diferencia: [1151.37606527]\n",
      "\n",
      "\n",
      "**PRUEBA 7**\n",
      "Dato real: [2710.] \n",
      "Prediccion: 1000.1839463739188\n",
      "Diferencia: [1709.81605363]\n",
      "\n",
      "\n",
      "**PRUEBA 8**\n",
      "Dato real: [3020.] \n",
      "Prediccion: 1011.7439580222064\n",
      "Diferencia: [2008.25604198]\n",
      "\n",
      "\n",
      "**PRUEBA 9**\n",
      "Dato real: [3030.] \n",
      "Prediccion: 1023.3039696704939\n",
      "Diferencia: [2006.69603033]\n",
      "\n",
      "\n",
      "**PRUEBA 10**\n",
      "Dato real: [3040.] \n",
      "Prediccion: 1034.8639813187815\n",
      "Diferencia: [2005.13601868]\n",
      "\n",
      "\n",
      "**PRUEBA 11**\n",
      "Dato real: [3180.] \n",
      "Prediccion: 1046.423992967069\n",
      "Diferencia: [2133.57600703]\n",
      "\n",
      "\n",
      "**PRUEBA 12**\n",
      "Dato real: [3257.] \n",
      "Prediccion: 1057.9840046153565\n",
      "Diferencia: [2199.01599538]\n",
      "\n",
      "\n",
      "**PRUEBA 13**\n",
      "Dato real: [3214.] \n",
      "Prediccion: 1069.544016263644\n",
      "Diferencia: [2144.45598374]\n",
      "\n",
      "\n"
     ]
    }
   ],
   "source": [
    "# Aqui multiplico cada uno de los tetha[i] por x[i] en cada caso, esto es aplicar la formula, en este caso uso ciclos anidados, pero también se puede hacer con un solo ciclo, pero hay que escribir mas codigo\n",
    "for i in range (0,cantidad):\n",
    "    for j in range (2):\n",
    "        predicciones[i] = np.absolute(predicciones[i] + theta[j] * pruebax[i][j])\n",
    "\n",
    "  \n",
    "    #Aquí fuera del ciclo de j se muestra al usuario el valor real del precio y la prediccion  \n",
    "    print(\"**PRUEBA \"+str(i+1)+\"**\\nDato real: \"+str(pruebay[i])+\" \\nPrediccion: \"+str(predicciones[i])+\"\\nDiferencia: \"+str(np.absolute(pruebay[i]-predicciones[i]))+\"\\n\\n\")\n",
    "\n"
   ]
  },
  {
   "cell_type": "code",
   "execution_count": 6,
   "metadata": {},
   "outputs": [
    {
     "name": "stdout",
     "output_type": "stream",
     "text": [
      "Error cuadrático medio: 4366923.758034359\n",
      "El error promedio es: 2089.718583454327\n",
      "\n"
     ]
    }
   ],
   "source": [
    "# Procedemos a calcular el error cuadratico para evaluar nuestras predicciones\n",
    "\n",
    "# Se inicializan los valores en 0\n",
    "error_cuadratico = 0\n",
    "sumatoria = 0\n",
    "\n",
    "# Se lleva a cabo la sumatoria \n",
    "for i in range (cantidad):\n",
    "    sumatoria = sumatoria + (predicciones[i] - pruebay[i]) ** 2\n",
    "    \n",
    "error_cuadratico = (1/cantidad) * sumatoria\n",
    "\n",
    "print(\"Error cuadrático medio: \"+str(error_cuadratico[0]))\n",
    "\n",
    "# El error medio se calcula con la raiz cuadrada del error cuadrado...\n",
    "error_medio = np.sqrt(error_cuadratico)\n",
    "\n",
    "print(\"El error promedio es: \" + str(error_medio[0]) + \"\\n\")"
   ]
  },
  {
   "cell_type": "code",
   "execution_count": null,
   "metadata": {},
   "outputs": [],
   "source": []
  }
 ],
 "metadata": {
  "kernelspec": {
   "display_name": "Python 3",
   "language": "python",
   "name": "python3"
  },
  "language_info": {
   "codemirror_mode": {
    "name": "ipython",
    "version": 3
   },
   "file_extension": ".py",
   "mimetype": "text/x-python",
   "name": "python",
   "nbconvert_exporter": "python",
   "pygments_lexer": "ipython3",
   "version": "3.5.2"
  }
 },
 "nbformat": 4,
 "nbformat_minor": 2
}
